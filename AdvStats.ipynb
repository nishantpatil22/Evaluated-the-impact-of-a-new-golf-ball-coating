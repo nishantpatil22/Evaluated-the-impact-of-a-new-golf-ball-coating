{
 "cells": [
  {
   "attachments": {},
   "cell_type": "markdown",
   "metadata": {},
   "source": [
    "# Data Description\n",
    "\n",
    "Par Inc., is a major manufacturer of golf equipment. Management believes that Par’s market share could be increased with the introduction of a cut-resistant, longer-lasting golf ball. \n",
    "\n",
    "\n",
    "Formulate and present the rationale for a hypothesis test that par could use to compare the driving distances of the current and new golf balls. \n",
    "\n",
    "Analyse the data to provide the hypothesis testing conclusion. What is the p-value for your test? What is your recommendation for Par Inc.?\n",
    "\n",
    "Provide descriptive statistical summaries of the data for each model. \n"
   ]
  },
  {
   "cell_type": "markdown",
   "metadata": {},
   "source": [
    "# Framing Hypothesis\n",
    "\n",
    "The two samples Current and New are assumed to be taken from the two population (Old and New ) with mu1 and mu2 as there mean.\n",
    "The population too is assumed to be having a normal distribution.\n",
    "\n",
    "The Null Hypothesis is mu1 and mu2 are both same i.e mu1 = mu2 . The alternate hypothesis is mu1 != mu2.\n",
    "\n",
    "Here it is taken as there is no difference in New and Old ball which forms our Null Hypothesis."
   ]
  },
  {
   "cell_type": "code",
   "execution_count": 64,
   "metadata": {},
   "outputs": [],
   "source": [
    "import numpy as np\n",
    "from scipy.stats import ttest_1samp, ttest_ind,mannwhitneyu,levene,shapiro,wilcoxon,iqr,describe,norm\n",
    "from statsmodels.stats.power import ttest_power\n",
    "import pandas as pd"
   ]
  },
  {
   "cell_type": "code",
   "execution_count": 24,
   "metadata": {},
   "outputs": [],
   "source": [
    "import matplotlib.pyplot as plt\n",
    "import seaborn as sns"
   ]
  },
  {
   "cell_type": "code",
   "execution_count": 19,
   "metadata": {},
   "outputs": [],
   "source": [
    "data = pd.read_excel('SM4Golf.xls')"
   ]
  },
  {
   "cell_type": "code",
   "execution_count": 20,
   "metadata": {},
   "outputs": [
    {
     "data": {
      "text/html": [
       "<div>\n",
       "<style scoped>\n",
       "    .dataframe tbody tr th:only-of-type {\n",
       "        vertical-align: middle;\n",
       "    }\n",
       "\n",
       "    .dataframe tbody tr th {\n",
       "        vertical-align: top;\n",
       "    }\n",
       "\n",
       "    .dataframe thead th {\n",
       "        text-align: right;\n",
       "    }\n",
       "</style>\n",
       "<table border=\"1\" class=\"dataframe\">\n",
       "  <thead>\n",
       "    <tr style=\"text-align: right;\">\n",
       "      <th></th>\n",
       "      <th>Current</th>\n",
       "      <th>New</th>\n",
       "    </tr>\n",
       "  </thead>\n",
       "  <tbody>\n",
       "    <tr>\n",
       "      <th>0</th>\n",
       "      <td>264</td>\n",
       "      <td>277</td>\n",
       "    </tr>\n",
       "    <tr>\n",
       "      <th>1</th>\n",
       "      <td>261</td>\n",
       "      <td>269</td>\n",
       "    </tr>\n",
       "    <tr>\n",
       "      <th>2</th>\n",
       "      <td>267</td>\n",
       "      <td>263</td>\n",
       "    </tr>\n",
       "    <tr>\n",
       "      <th>3</th>\n",
       "      <td>272</td>\n",
       "      <td>266</td>\n",
       "    </tr>\n",
       "    <tr>\n",
       "      <th>4</th>\n",
       "      <td>258</td>\n",
       "      <td>262</td>\n",
       "    </tr>\n",
       "  </tbody>\n",
       "</table>\n",
       "</div>"
      ],
      "text/plain": [
       "   Current  New\n",
       "0      264  277\n",
       "1      261  269\n",
       "2      267  263\n",
       "3      272  266\n",
       "4      258  262"
      ]
     },
     "execution_count": 20,
     "metadata": {},
     "output_type": "execute_result"
    }
   ],
   "source": [
    "data.head()"
   ]
  },
  {
   "cell_type": "code",
   "execution_count": 21,
   "metadata": {},
   "outputs": [
    {
     "data": {
      "text/html": [
       "<div>\n",
       "<style scoped>\n",
       "    .dataframe tbody tr th:only-of-type {\n",
       "        vertical-align: middle;\n",
       "    }\n",
       "\n",
       "    .dataframe tbody tr th {\n",
       "        vertical-align: top;\n",
       "    }\n",
       "\n",
       "    .dataframe thead th {\n",
       "        text-align: right;\n",
       "    }\n",
       "</style>\n",
       "<table border=\"1\" class=\"dataframe\">\n",
       "  <thead>\n",
       "    <tr style=\"text-align: right;\">\n",
       "      <th></th>\n",
       "      <th>Current</th>\n",
       "      <th>New</th>\n",
       "    </tr>\n",
       "  </thead>\n",
       "  <tbody>\n",
       "    <tr>\n",
       "      <th>count</th>\n",
       "      <td>40.000000</td>\n",
       "      <td>40.000000</td>\n",
       "    </tr>\n",
       "    <tr>\n",
       "      <th>mean</th>\n",
       "      <td>270.275000</td>\n",
       "      <td>267.500000</td>\n",
       "    </tr>\n",
       "    <tr>\n",
       "      <th>std</th>\n",
       "      <td>8.752985</td>\n",
       "      <td>9.896904</td>\n",
       "    </tr>\n",
       "    <tr>\n",
       "      <th>min</th>\n",
       "      <td>255.000000</td>\n",
       "      <td>250.000000</td>\n",
       "    </tr>\n",
       "    <tr>\n",
       "      <th>25%</th>\n",
       "      <td>263.000000</td>\n",
       "      <td>262.000000</td>\n",
       "    </tr>\n",
       "    <tr>\n",
       "      <th>50%</th>\n",
       "      <td>270.000000</td>\n",
       "      <td>265.000000</td>\n",
       "    </tr>\n",
       "    <tr>\n",
       "      <th>75%</th>\n",
       "      <td>275.250000</td>\n",
       "      <td>274.500000</td>\n",
       "    </tr>\n",
       "    <tr>\n",
       "      <th>max</th>\n",
       "      <td>289.000000</td>\n",
       "      <td>289.000000</td>\n",
       "    </tr>\n",
       "  </tbody>\n",
       "</table>\n",
       "</div>"
      ],
      "text/plain": [
       "          Current         New\n",
       "count   40.000000   40.000000\n",
       "mean   270.275000  267.500000\n",
       "std      8.752985    9.896904\n",
       "min    255.000000  250.000000\n",
       "25%    263.000000  262.000000\n",
       "50%    270.000000  265.000000\n",
       "75%    275.250000  274.500000\n",
       "max    289.000000  289.000000"
      ]
     },
     "execution_count": 21,
     "metadata": {},
     "output_type": "execute_result"
    }
   ],
   "source": [
    "data.describe()"
   ]
  },
  {
   "cell_type": "markdown",
   "metadata": {},
   "source": [
    "The describe command above shows the basic statistics of the data. It can be infered that the statistics measures like mean, median, IQR,std deviation, min and max are almost same or there is very little difference between the two groups. \n",
    "\n",
    "More Over for Current data the mean is almost equal to median which says that the sample is having normal distribution.\n",
    "\n",
    "In case of New data there is little difference in mean and median.The normalcy of the sample can be test with other statistical test like shapiro.\n"
   ]
  },
  {
   "cell_type": "code",
   "execution_count": 22,
   "metadata": {},
   "outputs": [
    {
     "name": "stdout",
     "output_type": "stream",
     "text": [
      "<class 'pandas.core.frame.DataFrame'>\n",
      "RangeIndex: 40 entries, 0 to 39\n",
      "Data columns (total 2 columns):\n",
      "Current    40 non-null int64\n",
      "New        40 non-null int64\n",
      "dtypes: int64(2)\n",
      "memory usage: 720.0 bytes\n"
     ]
    }
   ],
   "source": [
    "data.info()"
   ]
  },
  {
   "cell_type": "code",
   "execution_count": 23,
   "metadata": {},
   "outputs": [
    {
     "data": {
      "text/plain": [
       "array([[<matplotlib.axes._subplots.AxesSubplot object at 0x00000265944701D0>,\n",
       "        <matplotlib.axes._subplots.AxesSubplot object at 0x00000265931A9240>]],\n",
       "      dtype=object)"
      ]
     },
     "execution_count": 23,
     "metadata": {},
     "output_type": "execute_result"
    },
    {
     "data": {
      "image/png": "[encoded data removed]",
      "text/plain": [
       "<Figure size 432x288 with 2 Axes>"
      ]
     },
     "metadata": {
      "needs_background": "light"
     },
     "output_type": "display_data"
    }
   ],
   "source": [
    "data.hist()"
   ]
  },
  {
   "cell_type": "code",
   "execution_count": 47,
   "metadata": {},
   "outputs": [
    {
     "name": "stderr",
     "output_type": "stream",
     "text": [
      "C:\\Users\\ttc\\Anaconda3\\lib\\site-packages\\scipy\\stats\\stats.py:1713: FutureWarning: Using a non-tuple sequence for multidimensional indexing is deprecated; use `arr[tuple(seq)]` instead of `arr[seq]`. In the future this will be interpreted as an array index, `arr[np.array(seq)]`, which will result either in an error or a different result.\n",
      "  return np.add.reduce(sorted[indexer] * weights, axis=axis) / sumval\n"
     ]
    },
    {
     "data": {
      "text/plain": [
       "<seaborn.axisgrid.PairGrid at 0x26594e87e48>"
      ]
     },
     "execution_count": 47,
     "metadata": {},
     "output_type": "execute_result"
    },
    {
     "data": {
      "image/png": "[encoded data removed]",
      "text/plain": [
       "<Figure size 360x360 with 6 Axes>"
      ]
     },
     "metadata": {
      "needs_background": "light"
     },
     "output_type": "display_data"
    }
   ],
   "source": [
    "sns.pairplot(data,diag_kind='kde')"
   ]
  },
  {
   "cell_type": "markdown",
   "metadata": {},
   "source": [
    "From the kernel density plot it can be seen that the samples are having normal distribution..\n",
    "\n",
    "Further to Strenthen the Normal distribution Shapiro test is used with null hypothesis as the samples are normally distributed . The level of significance (alpha) is 0.05.\n",
    "\n",
    "If p-value is less than alpha then null hypothesis is rejected and samples are not normally distributed.\n",
    "\n",
    "If p-value is more than alpha then null hypothesis is accepted and samples are normally distributed.\n"
   ]
  },
  {
   "cell_type": "code",
   "execution_count": 54,
   "metadata": {},
   "outputs": [],
   "source": [
    "# The data is divided in two groups one for Old or Current ball (pre) and second for New Ball (post).\n",
    "\n",
    "pre = data['Current']\n",
    "post= data['New']"
   ]
  },
  {
   "cell_type": "code",
   "execution_count": 129,
   "metadata": {},
   "outputs": [
    {
     "data": {
      "text/plain": [
       "<matplotlib.axes._subplots.AxesSubplot at 0x2659805ec18>"
      ]
     },
     "execution_count": 129,
     "metadata": {},
     "output_type": "execute_result"
    },
    {
     "data": {
      "image/png": "[encoded data removed]",
      "text/plain": [
       "<Figure size 432x288 with 1 Axes>"
      ]
     },
     "metadata": {
      "needs_background": "light"
     },
     "output_type": "display_data"
    }
   ],
   "source": [
    "sns.boxplot(pre)\n"
   ]
  },
  {
   "cell_type": "code",
   "execution_count": 128,
   "metadata": {},
   "outputs": [
    {
     "data": {
      "text/plain": [
       "<matplotlib.axes._subplots.AxesSubplot at 0x265972f0550>"
      ]
     },
     "execution_count": 128,
     "metadata": {},
     "output_type": "execute_result"
    },
    {
     "data": {
      "image/png": "[encoded data removed]",
      "text/plain": [
       "<Figure size 432x288 with 1 Axes>"
      ]
     },
     "metadata": {
      "needs_background": "light"
     },
     "output_type": "display_data"
    }
   ],
   "source": [
    "sns.boxplot(post)"
   ]
  },
  {
   "cell_type": "code",
   "execution_count": 52,
   "metadata": {},
   "outputs": [
    {
     "data": {
      "text/plain": [
       "(0.9707046747207642, 0.378787100315094)"
      ]
     },
     "execution_count": 52,
     "metadata": {},
     "output_type": "execute_result"
    }
   ],
   "source": [
    "shapiro(pre)"
   ]
  },
  {
   "cell_type": "code",
   "execution_count": 53,
   "metadata": {},
   "outputs": [
    {
     "data": {
      "text/plain": [
       "(0.9678263664245605, 0.3064655363559723)"
      ]
     },
     "execution_count": 53,
     "metadata": {},
     "output_type": "execute_result"
    }
   ],
   "source": [
    "shapiro(post)"
   ]
  },
  {
   "cell_type": "markdown",
   "metadata": {},
   "source": [
    "From the Shapiro test for both the groups it can be said that the samples are normally distributed. as p-value is greater than alpha not rejecting our null hypothesis."
   ]
  },
  {
   "cell_type": "code",
   "execution_count": 56,
   "metadata": {},
   "outputs": [
    {
     "data": {
      "text/plain": [
       "LeveneResult(statistic=0.2553238291765741, pvalue=0.6147759523331309)"
      ]
     },
     "execution_count": 56,
     "metadata": {},
     "output_type": "execute_result"
    }
   ],
   "source": [
    "# To check for the population variance of two groups Levenes test is used. The null hypothesis is that the variances of the groups are equal.\n",
    "\n",
    "# The level of significance is default 0.05 which is our alpha.\n",
    "\n",
    "# If p value is less than alpha null hypothesis is rejected and infers that the two groups are having diffrent variances. \n",
    "levene(pre,post)"
   ]
  },
  {
   "cell_type": "markdown",
   "metadata": {},
   "source": [
    " Here the p value is greater than alpha which means population variances are the same for the two groups."
   ]
  },
  {
   "cell_type": "code",
   "execution_count": 55,
   "metadata": {},
   "outputs": [
    {
     "name": "stdout",
     "output_type": "stream",
     "text": [
      "1.3283615935245678 0.18793228491854663\n"
     ]
    }
   ],
   "source": [
    "# This is a two-sided test for the null hypothesis that 2 independent samples have identical average (expected) values. \n",
    "# This test assumes that the populations have identical variances by default.Since previously in levene test it was found \n",
    "# that the variances are equal the p-value for ttest_ind should be greater than alpha.\n",
    "\n",
    "t_statistic, p_value = ttest_ind(pre, post)\n",
    "print(t_statistic,p_value)"
   ]
  },
  {
   "cell_type": "markdown",
   "metadata": {},
   "source": [
    "As p value is greater than alpha the null hypothesis is not rejected and that the samples have identical average (expected) values\n",
    "\n",
    "The t stats is 1.32 "
   ]
  },
  {
   "cell_type": "code",
   "execution_count": 59,
   "metadata": {},
   "outputs": [
    {
     "data": {
      "text/plain": [
       "MannwhitneyuResult(statistic=668.0, pvalue=0.10265192122893124)"
      ]
     },
     "execution_count": 59,
     "metadata": {},
     "output_type": "execute_result"
    }
   ],
   "source": [
    "# For non parametric test the two samples are identical as p value is greater than alpha.\n",
    "mannwhitneyu(pre,post)"
   ]
  },
  {
   "cell_type": "code",
   "execution_count": 58,
   "metadata": {},
   "outputs": [
    {
     "data": {
      "text/plain": [
       "0.19431534815781365"
      ]
     },
     "execution_count": 58,
     "metadata": {},
     "output_type": "execute_result"
    }
   ],
   "source": [
    "# Pooled Standard Deviation of the groups.\n",
    "(np.mean(pre) - np.mean(post)) / np.sqrt(((40-1)*np.var(pre) + (40-1)*np.var(post)) / 40+40-2)"
   ]
  },
  {
   "cell_type": "code",
   "execution_count": 44,
   "metadata": {},
   "outputs": [
    {
     "name": "stdout",
     "output_type": "stream",
     "text": [
      "-1.2769699827911767 0.20916361823147053\n"
     ]
    }
   ],
   "source": [
    "# p-value > alpha hence fail to reject null hypothesis.\n",
    "\n",
    "t_statistic,p_value = ttest_1samp(post-pre,0)\n",
    "print(t_statistic,p_value)"
   ]
  },
  {
   "cell_type": "code",
   "execution_count": 69,
   "metadata": {},
   "outputs": [],
   "source": [
    "# To calculate the hypothesis that the two samples are same :\n",
    "# H0 : mu1 = mu2\n",
    "# Ha : mu1 != mu2\n",
    "# The level of significance taken is 0.05  \n",
    "# As the sample size is greater than 30 and the samples are normally distributed we can use Z test.\n",
    "# it is a two tail test as Ha could be > than or < than \n",
    "\n",
    "# pre : mean = 270.275 , std = 8.643 , n = 40\n",
    "# post : mean = 267.50 , std = 9.772 , n = 40"
   ]
  },
  {
   "cell_type": "code",
   "execution_count": 73,
   "metadata": {},
   "outputs": [
    {
     "data": {
      "text/plain": [
       "1.9599639845400545"
      ]
     },
     "execution_count": 73,
     "metadata": {},
     "output_type": "execute_result"
    }
   ],
   "source": [
    "z = scipy.stats.norm.isf(0.05/2)\n",
    "z"
   ]
  },
  {
   "cell_type": "code",
   "execution_count": 79,
   "metadata": {},
   "outputs": [
    {
     "data": {
      "text/plain": [
       "2.062725339205392"
      ]
     },
     "execution_count": 79,
     "metadata": {},
     "output_type": "execute_result"
    }
   ],
   "source": [
    "# calculating the estimate standard error\n",
    "\n",
    "se = np.sqrt((8.643**2/40)+(9.772**2/40))\n",
    "se"
   ]
  },
  {
   "cell_type": "code",
   "execution_count": 95,
   "metadata": {},
   "outputs": [
    {
     "data": {
      "text/plain": [
       "4.0428673748407356"
      ]
     },
     "execution_count": 95,
     "metadata": {},
     "output_type": "execute_result"
    }
   ],
   "source": [
    "# limit within CI\n",
    "limit = 0 + z*se\n",
    "limit"
   ]
  },
  {
   "cell_type": "code",
   "execution_count": 81,
   "metadata": {},
   "outputs": [
    {
     "data": {
      "text/plain": [
       "2.7749999999999773"
      ]
     },
     "execution_count": 81,
     "metadata": {},
     "output_type": "execute_result"
    }
   ],
   "source": [
    "np.mean(pre)-np.mean(post)"
   ]
  },
  {
   "cell_type": "code",
   "execution_count": 96,
   "metadata": {},
   "outputs": [
    {
     "data": {
      "text/plain": [
       "0.08926296604815637"
      ]
     },
     "execution_count": 96,
     "metadata": {},
     "output_type": "execute_result"
    }
   ],
   "source": [
    "# calculating p value \n",
    "pv = scipy.stats.norm.sf(2.775/se)\n",
    "pv\n",
    "# Since P-value is greater than alpha H0 is accepted."
   ]
  },
  {
   "cell_type": "markdown",
   "metadata": {},
   "source": [
    "# As the difference between sample means lies with the +-limit we make a conclusion \n",
    "# that the samples are same and there is not much difference between the old and current ball"
   ]
  },
  {
   "cell_type": "markdown",
   "metadata": {},
   "source": [
    "# To test using  pooled estimate :\n",
    "#  Assuming unkown population variances are equal and\n",
    "# Taking same H0 and Ha as taken previously"
   ]
  },
  {
   "cell_type": "code",
   "execution_count": 160,
   "metadata": {},
   "outputs": [
    {
     "data": {
      "text/plain": [
       "14.28091000689382"
      ]
     },
     "execution_count": 160,
     "metadata": {},
     "output_type": "execute_result"
    }
   ],
   "source": [
    "# pooled std\n",
    "ps = np.sqrt(((40-1)*np.var(pre) + (40-1)*np.var(post)) / 40+40-2)\n",
    "ps"
   ]
  },
  {
   "cell_type": "code",
   "execution_count": 89,
   "metadata": {},
   "outputs": [
    {
     "data": {
      "text/plain": [
       "3.1933085555971568"
      ]
     },
     "execution_count": 89,
     "metadata": {},
     "output_type": "execute_result"
    }
   ],
   "source": [
    "# Std error = Pooled Std * sqrt(1/n1 + 1/n2)\n",
    "\n",
    "es = ps*np.sqrt((1/40)+(1/40))\n",
    "es"
   ]
  },
  {
   "cell_type": "code",
   "execution_count": 133,
   "metadata": {},
   "outputs": [
    {
     "data": {
      "text/plain": [
       "(1.9908470685550523, 1.6646246444385244)"
      ]
     },
     "execution_count": 133,
     "metadata": {},
     "output_type": "execute_result"
    }
   ],
   "source": [
    "t_critical_two_tail = scipy.stats.t.isf(.025,78)\n",
    "t_critical_one_tail = scipy.stats.t.isf(.05,78)\n",
    "t_critical_two_tail,t_critical_one_tail "
   ]
  },
  {
   "cell_type": "markdown",
   "metadata": {},
   "source": [
    "# The mean difference of two samples lies betwee CI limit 5.253 hence null hypothesis is accepted "
   ]
  },
  {
   "cell_type": "code",
   "execution_count": 135,
   "metadata": {},
   "outputs": [
    {
     "data": {
      "text/plain": [
       "(1.3470873786407767, 0.09092636512017169)"
      ]
     },
     "execution_count": 135,
     "metadata": {},
     "output_type": "execute_result"
    }
   ],
   "source": [
    "# p-value > alpha ( t_value = mean(pre)-mean(post)/se where se = np.sqrt((8.643**2/40)+(9.772**2/40))) as both sample has n = 40 the formula for se can be used.\n",
    "t_value = 2.775/2.06\n",
    "\n",
    "p = scipy.stats.t.sf(t_value,78)\n",
    "t_value,p\n",
    "# As p greater than alpha the null hypothesis is accepted.Also T_value is less than t critical in this case also H0 accepted"
   ]
  },
  {
   "cell_type": "code",
   "execution_count": 153,
   "metadata": {},
   "outputs": [
    {
     "data": {
      "text/plain": [
       "(0.8690886313811462, 0.1937325444589748)"
      ]
     },
     "execution_count": 153,
     "metadata": {},
     "output_type": "execute_result"
    }
   ],
   "source": [
    "t_value = 2.775/3.193\n",
    "p = scipy.stats.t.sf(t_value,78)\n",
    "t_value,p"
   ]
  },
  {
   "cell_type": "markdown",
   "metadata": {},
   "source": [
    "With pooled std also the p value is greater than the alpha and hence null hypothesis is accepted."
   ]
  },
  {
   "cell_type": "code",
   "execution_count": 155,
   "metadata": {},
   "outputs": [
    {
     "data": {
      "text/plain": [
       "(5.316858745069266, 6.354684025638342)"
      ]
     },
     "execution_count": 155,
     "metadata": {},
     "output_type": "execute_result"
    }
   ],
   "source": [
    "# With .05 signficant level the t value is 1.665 for Df = 40+40-2 \n",
    "# limit1 for one tail test\n",
    "limit1 = 0 + 1.665*es\n",
    "#limit2 for two tail test\n",
    "limit2 = 0 + 1.990*es\n",
    "limit1,limit2"
   ]
  },
  {
   "cell_type": "markdown",
   "metadata": {},
   "source": [
    "# As in this case also the difference in sample means is within the limit (2.775 < 5.317) so we fail to reject null hypothesis i.e mu1 = mu2 and there is no difference between Current and New Ball"
   ]
  },
  {
   "cell_type": "code",
   "execution_count": 152,
   "metadata": {},
   "outputs": [
    {
     "data": {
      "text/plain": [
       "(0.7960395795590883, 0.21421255505162085)"
      ]
     },
     "execution_count": 152,
     "metadata": {},
     "output_type": "execute_result"
    }
   ],
   "source": [
    "# calculating power for the test : if mean is shifted from 0 to 2.775 the limit 5.317 will have t  value as:\n",
    "t_stats = (5.317-2.775)/es\n",
    "t_stats\n",
    "p = scipy.stats.t.sf(t_stats,78)\n",
    "t_stats,p"
   ]
  },
  {
   "cell_type": "code",
   "execution_count": 143,
   "metadata": {},
   "outputs": [
    {
     "name": "stdout",
     "output_type": "stream",
     "text": [
      "0.99851935377146\n"
     ]
    }
   ],
   "source": [
    "print(ttest_power(0.80, nobs=40, alpha=0.05, alternative=\"two-sided\"))"
   ]
  },
  {
   "cell_type": "code",
   "execution_count": 102,
   "metadata": {},
   "outputs": [
    {
     "data": {
      "text/plain": [
       "27.77717678759841"
      ]
     },
     "execution_count": 102,
     "metadata": {},
     "output_type": "execute_result"
    }
   ],
   "source": [
    "# sample size required for 90 per power with alpha 0.05\n",
    "10.51 * (3.19/2.775)**2 * (1+1)"
   ]
  },
  {
   "attachments": {},
   "cell_type": "markdown",
   "metadata": {},
   "source": [
    "                        Variable 1\tVariable 2\n",
    "                    Mean\t         270.275\t267.5\n",
    "                    Variance\t76.61474359\t97.94871795\n",
    "                    Observations\t     40\t40\n",
    "                    Pooled Variance\t     87.28173077\t\n",
    "       Hypothesized Mean Difference\t         0\t\n",
    "                                  df\t78\t\n",
    "                    t Stat              1.328361594\t\n",
    "                    P(T<=t) one-tail\t0.093966142\t\n",
    "                    t Critical one-tail\t1.664624645\t\n",
    "                    P(T<=t) two-tail\t0.187932285\t\n",
    "                    t Critical two-tail\t1.990847069\t\n",
    "\n",
    "T test calculated in Excel assuming equal population variances which again confirm that there is no difference in means and null hypothesis is accepted"
   ]
  },
  {
   "cell_type": "markdown",
   "metadata": {},
   "source": [
    "# Conclusion\n",
    "# To calculate the hypothesis that the two samples are same :\n",
    "# H0 : mu1 = mu2\n",
    "# Ha : mu1 != mu2\n",
    "# The level of significance taken is 0.05  \n",
    "# As the sample size is greater than 30 and the samples are normally distributed we can use Z test.\n",
    "# it is a two tail test as Ha could be > than or < than \n",
    "\n",
    "# pre : mean = 270.275 , std = 8.643 , n = 40\n",
    "# post : mean = 267.50 , std = 9.772 , n = 40\n",
    "\n",
    "The Hypothesis testing is done for the above case with following assumption w.r.t sample size:\n",
    "    \n",
    "    1 Sample size is large as it is > 30:\n",
    "        the p value in this case is 0.089 > 0.05 hence leads to failure in rejecting null hypothesis.\n",
    "        This is further strenthen with limits as the difference of sample mean lies within the limits (2.775 < 4.04)\n",
    "    2 Sample size 40 not enough to make conclusion i.e if samples have same mean:\n",
    "        For this pooled std is calculated and standard error using pooled std is found\n",
    "        t_value (t_stats) and p value found is 0.87 and 0.39. Here again the p value is greater than alpha \n",
    "        hence cannot reject null hypothesis\n",
    "    3 The sample size required for 90 per power with .05 alpha comes to be 27.77 ~ 28. The sample size in our case is 40\n",
    "      hence z distribution can be use.\n",
    "    4 The power of test comes to 21 per with 0.05 alpha and number of observations 40 which says not enough evidence to reject null hypothesis.It means that with 21 percent it can be said that the two samples are different from each other which is very low and not acceptable. \n",
    "    \n",
    "# The advice to Par Inc is since there is enough evidence that the two samples     belongs to populations that have common means and and that there is no difference between the new and current ball it is not advisable to go with the current modification of the ball and needs some more research on doing cut resistance to increase the distance of ball.      "
   ]
  },
  {
   "cell_type": "code",
   "execution_count": null,
   "metadata": {},
   "outputs": [],
   "source": []
  }
 ],
 "metadata": {
  "kernelspec": {
   "display_name": "Python 3",
   "language": "python",
   "name": "python3"
  },
  "language_info": {
   "codemirror_mode": {
    "name": "ipython",
    "version": 3
   },
   "file_extension": ".py",
   "mimetype": "text/x-python",
   "name": "python",
   "nbconvert_exporter": "python",
   "pygments_lexer": "ipython3",
   "version": "3.7.1"
  }
 },
 "nbformat": 4,
 "nbformat_minor": 2
}
